{
 "cells": [
  {
   "cell_type": "code",
   "execution_count": 3,
   "metadata": {},
   "outputs": [],
   "source": [
    "import pandas as pd #Pandas\n",
    "import itertools #itertools\n",
    "import cobra as c #Cobrapy \n",
    "import pandas as pd\n",
    "import comets as cm\n",
    "from CAFBAFY import * \n",
    "import time\n",
    "import itertools\n",
    "import matplotlib\n",
    "import matplotlib.pyplot as plt\n",
    "import os\n",
    "%matplotlib inline"
   ]
  },
  {
   "cell_type": "markdown",
   "metadata": {},
   "source": [
    "## Comets: evoluion example"
   ]
  },
  {
   "cell_type": "code",
   "execution_count": 1,
   "metadata": {},
   "outputs": [
    {
     "ename": "NameError",
     "evalue": "name 'cm' is not defined",
     "output_type": "error",
     "traceback": [
      "\u001b[0;31m---------------------------------------------------------------------------\u001b[0m",
      "\u001b[0;31mNameError\u001b[0m                                 Traceback (most recent call last)",
      "Cell \u001b[0;32mIn [1], line 2\u001b[0m\n\u001b[1;32m      1\u001b[0m \u001b[38;5;66;03m# generate layout\u001b[39;00m\n\u001b[0;32m----> 2\u001b[0m world \u001b[38;5;241m=\u001b[39m \u001b[43mcm\u001b[49m\u001b[38;5;241m.\u001b[39mlayout()\n\u001b[1;32m      3\u001b[0m world\u001b[38;5;241m.\u001b[39mset_specific_metabolite(\u001b[38;5;124m'\u001b[39m\u001b[38;5;124mglc__D_e\u001b[39m\u001b[38;5;124m'\u001b[39m, \u001b[38;5;241m0.01\u001b[39m)\n\u001b[1;32m      5\u001b[0m \u001b[38;5;66;03m# Add typical trace metabolites and oxygen coli as static\u001b[39;00m\n",
      "\u001b[0;31mNameError\u001b[0m: name 'cm' is not defined"
     ]
    }
   ],
   "source": [
    "# generate layout\n",
    "world = cm.layout()\n",
    "world.set_specific_metabolite('glc__D_e', 0.01)\n",
    "\n",
    "# Add typical trace metabolites and oxygen coli as static\n",
    "trace_metabolites = ['ca2_e',\n",
    "                     'cl_e',\n",
    "                     'cobalt2_e',\n",
    "                     'cu2_e',\n",
    "                     'fe2_e',\n",
    "                     'fe3_e',\n",
    "                     'h_e',\n",
    "                     'k_e',\n",
    "                     'h2o_e',\n",
    "                     'mg2_e',\n",
    "                     'mn2_e',\n",
    "                     'mobd_e',\n",
    "                     'na1_e',\n",
    "                     'ni2_e',\n",
    "                     'nh4_e',\n",
    "                     'o2_e',\n",
    "                     'pi_e',\n",
    "                     'so4_e',\n",
    "                     'zn2_e']\n",
    "\n",
    "for met in trace_metabolites:\n",
    "    newrow = {'metabolite': met,\n",
    "              'g_refresh': 0,\n",
    "              'g_static': 1,\n",
    "              'g_static_val': 1000,\n",
    "              'init_amount': 1000,\n",
    "              'diff_c': world.default_diff_c}\n",
    "\n",
    "    newrow = pd.DataFrame([newrow], columns=newrow.keys())\n",
    "    world.media = pd.concat([world.media, newrow], axis=0, sort=False)\n",
    "    \n",
    "# load model\n",
    "wt = cm.model('../Data/iJO1366.xml')\n",
    "wt.initial_pop = [0, 0, 5e-8]\n",
    "world.add_model(wt)\n",
    "\n"
   ]
  },
  {
   "cell_type": "code",
   "execution_count": 5,
   "metadata": {},
   "outputs": [],
   "source": [
    "# .. load parameters and layout from file\n",
    "evo_params = cm.params()\n",
    "\n",
    "#simulate 10 serial transfers of 24h each (timeStep = 0.1)\n",
    "evo_params.all_params['timeStep'] = 0.1\n",
    "evo_params.all_params['maxCycles'] = 2400\n",
    "evo_params.all_params['batchDilution'] = True\n",
    "evo_params.all_params['dilFactor'] = 0.01\n",
    "evo_params.all_params['dilTime'] = 24\n",
    "\n",
    "evo_params.all_params['evolution'] = True\n",
    "evo_params.all_params['mutRate'] = 1e-5\n",
    "evo_params.all_params['cellSize'] = 1e-9\n",
    "#evo_params.all_params['minCellBiomass'] = 2.5e-13\n",
    "\n",
    "evo_params.all_params['costlyGenome'] = True\n",
    "evo_params.all_params['geneFractionalCost'] = 5e-8\n",
    "\n",
    "evo_params.all_params['BiomassLogRate'] = 1 #2400"
   ]
  },
  {
   "cell_type": "code",
   "execution_count": 6,
   "metadata": {},
   "outputs": [
    {
     "name": "stdout",
     "output_type": "stream",
     "text": [
      "warning:  we cannot find required java class libraries at the expected locations\n",
      "    specifically, we cannot find the following libraries at these locations:\n",
      "\n",
      "library common name \t expected path\n",
      "___________________ \t _____________\n",
      "colt\t/opt/comets/lib/colt/lib/colt.jar\n",
      "concurrent\t/opt/comets/lib/colt/lib/concurrent.jar\n",
      "jmatio\t/opt/comets/lib/JMatIO/lib/jamtio.jar\n",
      "junit\t/opt/comets/lib/junit/junit-4.12.jar\n",
      "jmat\t/opt/comets/lib/JMatIO/JMatIO-041212/lib/jmatio.jar\n",
      "jogl_all\t/opt/comets/lib/jogl/jogamp-all-platforms/jar/jogl-all.jar\n",
      "gluegen_rt_natives\t/opt/comets/lib/jogl/jogamp-all-platforms/jar/gluegen-rt-natives-linux-amd64.jar\n",
      "lang3\t/opt/comets/lib/commons-lang3-3.7/commons-lang3-3.7.jar\n",
      "hamcrest\t/opt/comets/lib/junit/hamcrest-core-1.3.jar\n",
      "bin\t/opt/comets/bin/comets_evo.jar\n",
      "gluegen\t/opt/comets/lib/jogl/jogamp-all-platforms/jar/gluegen.jar\n",
      "jogl_all_natives\t/opt/comets/lib/jogl/jogamp-all-platforms/jar/jogl-all-natives-linux-amd64.jar\n",
      "gluegen_rt\t/opt/comets/lib/jogl/jogamp-all-platforms/jar/gluegen-rt.jar\n",
      "\n",
      "  You have two options to fix this problem:\n",
      "1.  set each class path correctly by doing:\n",
      "    comets.set_classpath(libraryname, path)\n",
      "    e.g.   comets.set_classpath('hamcrest', '/home/chaco001/comets/junit/hamcrest-core-1.3.jar')\n",
      "\n",
      "    note that versions dont always have to exactly match, but you're on your own if they don't\n",
      "\n",
      "2.  fully define the classpath yourself by overwriting comets.JAVA_CLASSPATH\n",
      "       look at the current comets.JAVA_CLASSPATH to see how this should look.\n",
      "\n",
      "Running COMETS simulation ...\n"
     ]
    },
    {
     "ename": "FileNotFoundError",
     "evalue": "[Errno 2] No such file or directory: 'total_biomass_log_0x7f481e0f7e80'",
     "output_type": "error",
     "traceback": [
      "\u001b[0;31m---------------------------------------------------------------------------\u001b[0m",
      "\u001b[0;31mFileNotFoundError\u001b[0m                         Traceback (most recent call last)",
      "\u001b[0;32m<ipython-input-6-46020f8d08fa>\u001b[0m in \u001b[0;36m<module>\u001b[0;34m\u001b[0m\n\u001b[1;32m      2\u001b[0m \u001b[0mevo_simulation\u001b[0m \u001b[0;34m=\u001b[0m \u001b[0mcm\u001b[0m\u001b[0;34m.\u001b[0m\u001b[0mcomets\u001b[0m\u001b[0;34m(\u001b[0m\u001b[0mworld\u001b[0m\u001b[0;34m,\u001b[0m \u001b[0mevo_params\u001b[0m\u001b[0;34m)\u001b[0m\u001b[0;34m\u001b[0m\u001b[0m\n\u001b[1;32m      3\u001b[0m \u001b[0;31m# run comets simulation\u001b[0m\u001b[0;34m\u001b[0m\u001b[0;34m\u001b[0m\u001b[0m\n\u001b[0;32m----> 4\u001b[0;31m \u001b[0mevo_simulation\u001b[0m\u001b[0;34m.\u001b[0m\u001b[0mrun\u001b[0m\u001b[0;34m(\u001b[0m\u001b[0;34m)\u001b[0m\u001b[0;34m\u001b[0m\u001b[0m\n\u001b[0m",
      "\u001b[0;32m~/Dropbox/Fontana_Schuster/Scripts/comets.py\u001b[0m in \u001b[0;36mrun\u001b[0;34m(self, delete_files)\u001b[0m\n\u001b[1;32m   1548\u001b[0m         \u001b[0;32mif\u001b[0m \u001b[0mself\u001b[0m\u001b[0;34m.\u001b[0m\u001b[0mparameters\u001b[0m\u001b[0;34m.\u001b[0m\u001b[0mall_params\u001b[0m\u001b[0;34m[\u001b[0m\u001b[0;34m'writeTotalBiomassLog'\u001b[0m\u001b[0;34m]\u001b[0m\u001b[0;34m:\u001b[0m\u001b[0;34m\u001b[0m\u001b[0m\n\u001b[1;32m   1549\u001b[0m             tbmf = readlines_file(\n\u001b[0;32m-> 1550\u001b[0;31m                 self.parameters.all_params['TotalBiomassLogName'])\n\u001b[0m\u001b[1;32m   1551\u001b[0m             self.total_biomass = pd.DataFrame([re.split(r'\\t+', x.strip())\n\u001b[1;32m   1552\u001b[0m                                                for x in tbmf],\n",
      "\u001b[0;32m~/Dropbox/Fontana_Schuster/Scripts/comets.py\u001b[0m in \u001b[0;36mreadlines_file\u001b[0;34m(filename)\u001b[0m\n\u001b[1;32m     53\u001b[0m \u001b[0;34m\u001b[0m\u001b[0m\n\u001b[1;32m     54\u001b[0m \u001b[0;32mdef\u001b[0m \u001b[0mreadlines_file\u001b[0m\u001b[0;34m(\u001b[0m\u001b[0mfilename\u001b[0m\u001b[0;34m)\u001b[0m\u001b[0;34m:\u001b[0m\u001b[0;34m\u001b[0m\u001b[0m\n\u001b[0;32m---> 55\u001b[0;31m     \u001b[0mf\u001b[0m \u001b[0;34m=\u001b[0m \u001b[0mopen\u001b[0m\u001b[0;34m(\u001b[0m\u001b[0mfilename\u001b[0m\u001b[0;34m,\u001b[0m \u001b[0;34m'r'\u001b[0m\u001b[0;34m)\u001b[0m\u001b[0;34m\u001b[0m\u001b[0m\n\u001b[0m\u001b[1;32m     56\u001b[0m     \u001b[0mf_lines\u001b[0m \u001b[0;34m=\u001b[0m \u001b[0mf\u001b[0m\u001b[0;34m.\u001b[0m\u001b[0mreadlines\u001b[0m\u001b[0;34m(\u001b[0m\u001b[0;34m)\u001b[0m\u001b[0;34m\u001b[0m\u001b[0m\n\u001b[1;32m     57\u001b[0m     \u001b[0mf\u001b[0m\u001b[0;34m.\u001b[0m\u001b[0mclose\u001b[0m\u001b[0;34m(\u001b[0m\u001b[0;34m)\u001b[0m\u001b[0;34m\u001b[0m\u001b[0m\n",
      "\u001b[0;31mFileNotFoundError\u001b[0m: [Errno 2] No such file or directory: 'total_biomass_log_0x7f481e0f7e80'"
     ]
    }
   ],
   "source": [
    "# create comets object from the loaded parameters and layout\n",
    "evo_simulation = cm.comets(world, evo_params)\n",
    "# run comets simulation\n",
    "evo_simulation.run()"
   ]
  },
  {
   "cell_type": "code",
   "execution_count": null,
   "metadata": {},
   "outputs": [],
   "source": []
  }
 ],
 "metadata": {
  "kernelspec": {
   "display_name": "Python 3.8.9 64-bit",
   "language": "python",
   "name": "python3"
  },
  "language_info": {
   "codemirror_mode": {
    "name": "ipython",
    "version": 3
   },
   "file_extension": ".py",
   "mimetype": "text/x-python",
   "name": "python",
   "nbconvert_exporter": "python",
   "pygments_lexer": "ipython3",
   "version": "3.8.9"
  },
  "vscode": {
   "interpreter": {
    "hash": "31f2aee4e71d21fbe5cf8b01ff0e069b9275f58929596ceb00d14d90e3e16cd6"
   }
  }
 },
 "nbformat": 4,
 "nbformat_minor": 2
}
